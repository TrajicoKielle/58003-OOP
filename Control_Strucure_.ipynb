{
  "nbformat": 4,
  "nbformat_minor": 0,
  "metadata": {
    "colab": {
      "provenance": [],
      "authorship_tag": "ABX9TyPLL8SczzwRHQFXLGX4KnZj",
      "include_colab_link": true
    },
    "kernelspec": {
      "name": "python3",
      "display_name": "Python 3"
    },
    "language_info": {
      "name": "python"
    }
  },
  "cells": [
    {
      "cell_type": "markdown",
      "metadata": {
        "id": "view-in-github",
        "colab_type": "text"
      },
      "source": [
        "<a href=\"https://colab.research.google.com/github/TrajicoKielle/58003-OOP/blob/main/Control_Strucure_.ipynb\" target=\"_parent\"><img src=\"https://colab.research.google.com/assets/colab-badge.svg\" alt=\"Open In Colab\"/></a>"
      ]
    },
    {
      "cell_type": "markdown",
      "source": [
        "If, Elif, and Else"
      ],
      "metadata": {
        "id": "6xeSsWgDQIXQ"
      }
    },
    {
      "cell_type": "code",
      "source": [
        "if 3>2:\n",
        "  print(\"three is greater than two\")\n",
        "elif 3==2:\n",
        "  print(\"three is equal two\")\n",
        "else:\n",
        "  print(\"three is less than two\")"
      ],
      "metadata": {
        "colab": {
          "base_uri": "https://localhost:8080/"
        },
        "id": "qeLN-kW2P9sw",
        "outputId": "737a4195-3be4-4079-940f-9c1a7d6dfabc"
      },
      "execution_count": 44,
      "outputs": [
        {
          "output_type": "stream",
          "name": "stdout",
          "text": [
            "three is greater than two\n"
          ]
        }
      ]
    },
    {
      "cell_type": "markdown",
      "source": [
        "Application 1 - Create a python program that will compare if the student is in Elementary, Secondary, and Tertiary Level\n"
      ],
      "metadata": {
        "id": "_5mp7H1nP-Yo"
      }
    },
    {
      "cell_type": "code",
      "source": [
        "print(\"Type the grade level of the student:\")\n",
        "print(\"1 - 6 = Elementary\")\n",
        "print(\"6 - 12 = Secondary\")\n",
        "print(\"None of the choices above = Tertiary\")\n",
        "\n",
        "x = int(input())\n",
        "if x ==1 or x ==2 or x ==3 or x ==4 or x ==5 or x==6:\n",
        "  print(\"Elementary\")\n",
        "elif x==7 or x==8 or x==9 or x==10 or x==11 or x==12:\n",
        "  print(\"Secondary\")\n",
        "else:\n",
        "  print(\"You are in Tertiary Level\")"
      ],
      "metadata": {
        "colab": {
          "base_uri": "https://localhost:8080/"
        },
        "id": "mmO6U89IPyeQ",
        "outputId": "3f7cb3f8-d4b5-4c96-d3b6-e17bff3a685d"
      },
      "execution_count": 43,
      "outputs": [
        {
          "output_type": "stream",
          "name": "stdout",
          "text": [
            "Type the grade level of the student:\n",
            "1 - 6 = Elementary\n",
            "6 - 12 = Secondary\n",
            "None of the choices above = Tertiary\n",
            "2\n",
            "Elementary\n"
          ]
        }
      ]
    },
    {
      "cell_type": "markdown",
      "source": [
        "Nested if.. Else Statement "
      ],
      "metadata": {
        "id": "jLODl-erPsQB"
      }
    },
    {
      "cell_type": "code",
      "source": [
        "x = 41\n",
        "\n",
        "if x > 10:\n",
        "  print(\"Above ten,\")\n",
        "  if x > 20:\n",
        "    print(\"and also above 20\")\n",
        "    if x> 30:\n",
        "      print(\"and also above 30\")\n",
        "      if x> 40:\n",
        "        print(\"and also above 40\")\n",
        "        if x>50:\n",
        "          print(\"and also above 50\")\n",
        "        else:\n",
        "          print(\"Below 50\")\n",
        "      else:\n",
        "        print(\"Below 40\")\n",
        "    else:\n",
        "      print(\"Below 30\")\n",
        "  else:\n",
        "    print(\"but not above 20\")     \n",
        "else:\n",
        "  print(\"Below 10\")"
      ],
      "metadata": {
        "colab": {
          "base_uri": "https://localhost:8080/"
        },
        "id": "EC7qWsryPnX5",
        "outputId": "67abb66c-ddd8-466b-d84f-1ae9381707ca"
      },
      "execution_count": 42,
      "outputs": [
        {
          "output_type": "stream",
          "name": "stdout",
          "text": [
            "Above ten,\n",
            "and also above 20\n",
            "and also above 30\n",
            "and also above 40\n",
            "Below 50\n"
          ]
        }
      ]
    },
    {
      "cell_type": "markdown",
      "source": [
        "EXAMPLE # 1\n"
      ],
      "metadata": {
        "id": "RHpmne0YI1fm"
      }
    },
    {
      "cell_type": "code",
      "source": [
        "x=int(input(\"Enter your age:\"))\n",
        "\n",
        "if x>=18:\n",
        "  print(\"You are qualified to vote!\")\n",
        "if x<18:\n",
        "  print(\"You are not qualified to vote!\")\n",
        "else:\n",
        "  print(\"Invalid Input\")"
      ],
      "metadata": {
        "colab": {
          "base_uri": "https://localhost:8080/"
        },
        "id": "Bw7dBj5AI7ct",
        "outputId": "bc3fdc5e-8037-45f2-f63f-9243e18741b6"
      },
      "execution_count": 4,
      "outputs": [
        {
          "output_type": "stream",
          "name": "stdout",
          "text": [
            "Enter your age:17\n",
            "You are not qualified to vote!\n"
          ]
        }
      ]
    },
    {
      "cell_type": "markdown",
      "source": [
        "EXAMPLE # 2"
      ],
      "metadata": {
        "id": "S8yhBdRtPe5h"
      }
    },
    {
      "cell_type": "code",
      "source": [
        "x=int(input(\"Enter number:\"))\n",
        "\n",
        "if x>0:\n",
        "  print(\"The number is POSITIVE\")\n",
        "if x<0:\n",
        "  print(\"The number is Negative\")\n",
        "if x==0:\n",
        "  print(\"The number is ZERO\")"
      ],
      "metadata": {
        "colab": {
          "base_uri": "https://localhost:8080/"
        },
        "id": "BxS7Wa2eKVbm",
        "outputId": "337b766a-816b-4efa-fabd-f336529267fc"
      },
      "execution_count": 24,
      "outputs": [
        {
          "output_type": "stream",
          "name": "stdout",
          "text": [
            "Enter number:-15\n",
            "The number is Negative\n"
          ]
        }
      ]
    },
    {
      "cell_type": "markdown",
      "source": [
        "EXAMPLE # 3"
      ],
      "metadata": {
        "id": "MniAg_YXPlGo"
      }
    },
    {
      "cell_type": "code",
      "source": [
        "x=float(input(\"Enter your grade:\"))\n",
        "\n",
        "if x>=70:\n",
        "  print(\"PASSED\")\n",
        "if x<=69.99 and x>=65:\n",
        "  print(\"REMEDIAL\")\n",
        "if x<=64.99 and x>1:\n",
        "  print(\"FAILED \")\n",
        "if x<=0:\n",
        "  print(\"Invalid Input\")"
      ],
      "metadata": {
        "id": "6klffciDLIOL"
      },
      "execution_count": null,
      "outputs": []
    },
    {
      "cell_type": "code",
      "source": [],
      "metadata": {
        "id": "DVmBSKvrOfcy"
      },
      "execution_count": null,
      "outputs": []
    }
  ]
}