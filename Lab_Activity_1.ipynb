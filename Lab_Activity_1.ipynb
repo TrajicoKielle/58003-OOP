{
  "nbformat": 4,
  "nbformat_minor": 0,
  "metadata": {
    "colab": {
      "provenance": [],
      "authorship_tag": "ABX9TyPGd2R7UHc2XXhiWy/oU1jV",
      "include_colab_link": true
    },
    "kernelspec": {
      "name": "python3",
      "display_name": "Python 3"
    },
    "language_info": {
      "name": "python"
    }
  },
  "cells": [
    {
      "cell_type": "markdown",
      "metadata": {
        "id": "view-in-github",
        "colab_type": "text"
      },
      "source": [
        "<a href=\"https://colab.research.google.com/github/TrajicoKielle/58003-OOP/blob/main/Lab_Activity_1.ipynb\" target=\"_parent\"><img src=\"https://colab.research.google.com/assets/colab-badge.svg\" alt=\"Open In Colab\"/></a>"
      ]
    },
    {
      "cell_type": "code",
      "execution_count": 3,
      "metadata": {
        "colab": {
          "base_uri": "https://localhost:8080/"
        },
        "id": "OCThJzuHfRfN",
        "outputId": "c9cc5403-4266-49e4-be3d-5bd4a8c22161"
      },
      "outputs": [
        {
          "output_type": "stream",
          "name": "stdout",
          "text": [
            "1275\n",
            "Average 25.5\n"
          ]
        }
      ],
      "source": [
        "n = 50\n",
        "totalno = n\n",
        "sum = 0\n",
        "average = 0\n",
        "while n>=0:\n",
        "  sum +=n\n",
        "  n-=1\n",
        "\n",
        "else:\n",
        "  print(sum)\n",
        "  \n",
        "average = sum/totalno\n",
        "print(\"Average\", average)"
      ]
    }
  ]
}