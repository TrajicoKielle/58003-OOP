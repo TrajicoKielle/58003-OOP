{
  "nbformat": 4,
  "nbformat_minor": 0,
  "metadata": {
    "colab": {
      "provenance": [],
      "authorship_tag": "ABX9TyMuOwAEansePpXhCgSrmXlc",
      "include_colab_link": true
    },
    "kernelspec": {
      "name": "python3",
      "display_name": "Python 3"
    },
    "language_info": {
      "name": "python"
    }
  },
  "cells": [
    {
      "cell_type": "markdown",
      "metadata": {
        "id": "view-in-github",
        "colab_type": "text"
      },
      "source": [
        "<a href=\"https://colab.research.google.com/github/TrajicoKielle/58003-OOP/blob/main/Lab_Activity_2.ipynb\" target=\"_parent\"><img src=\"https://colab.research.google.com/assets/colab-badge.svg\" alt=\"Open In Colab\"/></a>"
      ]
    },
    {
      "cell_type": "code",
      "execution_count": 7,
      "metadata": {
        "colab": {
          "base_uri": "https://localhost:8080/"
        },
        "id": "jy8EvUmNij_P",
        "outputId": "ca85f60d-6cd9-4071-d0d8-07f23a424765"
      },
      "outputs": [
        {
          "output_type": "stream",
          "name": "stdout",
          "text": [
            "Enter the radius of the circle: 8\n",
            "The perimeter of the circle is 50.24\n",
            "The area of the circle is 200.96\n"
          ]
        }
      ],
      "source": [
        "class Circle:\n",
        "    def __init__(self, radius):\n",
        "        self.radius = radius\n",
        "\n",
        "    def Perimeter(self):\n",
        "        return 2 * 3.14 * self.radius\n",
        "\n",
        "    def Area(self):\n",
        "        return 3.14 * self.radius ** 2\n",
        "\n",
        "    def Display(self):\n",
        "        print(\"The perimeter of the circle is\", self.Perimeter())\n",
        "        print(\"The area of the circle is\",self.Area())\n",
        "\n",
        "# Taking user input for the radius of the circle\n",
        "radius = float(input(\"Enter the radius of the circle: \"))\n",
        "\n",
        "# Creating an instance of the Circle class\n",
        "circle = Circle(radius)\n",
        "\n",
        "# Calling the Display method to print the perimeter and area of the circle\n",
        "circle.Display()"
      ]
    }
  ]
}